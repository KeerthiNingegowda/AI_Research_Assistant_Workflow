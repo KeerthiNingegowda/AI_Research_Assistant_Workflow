{
 "cells": [
  {
   "cell_type": "code",
   "execution_count": 1,
   "id": "208b05ca-2545-450e-94be-fe122b1cb07f",
   "metadata": {},
   "outputs": [],
   "source": [
    "import arxiv\n",
    "import wikipediaapi\n",
    "import logging\n",
    "\n",
    "\n",
    "##Arxiv search\n",
    "def arxiv_search(query):\n",
    "\n",
    "    arxiv_client = arxiv.Client()\n",
    "    logging.info(f'Searching Arxiv......')\n",
    "    arxiv_search = arxiv.Search(query, max_results=1)\n",
    "    arxiv_results = ''\n",
    "    for result in arxiv_client.results(arxiv_search):\n",
    "        arxiv_results += result.summary ##Will handle multiple results at a time\n",
    "\n",
    "    return arxiv_results\n"
   ]
  },
  {
   "cell_type": "code",
   "execution_count": 2,
   "id": "90abc7e0-4c9e-49a6-abdf-2130a43f27aa",
   "metadata": {},
   "outputs": [],
   "source": [
    "def wikipedia_search(query):\n",
    "\n",
    "    \n",
    "    logging.info(f'Searching Wikipedia....')\n",
    "    wiki_crawler = wikipediaapi.Wikipedia(user_agent='Wikipedia Crawler', language='en')\n",
    "    wiki_retriever = wiki_crawler.page(query)\n",
    "    \n",
    "    if wiki_retriever.exists():\n",
    "        wiki_results = wiki_retriever.text\n",
    "    else:\n",
    "        logging.warning(f'Page result not found')\n",
    "        wiki_results = ''\n",
    "\n",
    "    return wiki_results"
   ]
  },
  {
   "cell_type": "code",
   "execution_count": 3,
   "id": "10402e3a-9328-4151-b923-a42b5e967e1d",
   "metadata": {},
   "outputs": [
    {
     "data": {
      "text/plain": [
       "ProcessResponse(models=[Model(model='llama3.2:latest', name='llama3.2:latest', digest='a80c4f17acd55265feec403c7aef86be0c25983ab279d83f3bcd3abbcb5b8b72', expires_at=datetime.datetime(2025, 3, 11, 12, 19, 59, 258361, tzinfo=TzInfo(-07:00)), size=3493163008, size_vram=0, details=ModelDetails(parent_model='', format='gguf', family='llama', families=['llama'], parameter_size='3.2B', quantization_level='Q4_K_M'))])"
      ]
     },
     "execution_count": 3,
     "metadata": {},
     "output_type": "execute_result"
    }
   ],
   "source": [
    "##Check the models up and running for use\n",
    "##These by default will be running at localhost:11434\n",
    "\n",
    "\n",
    "import ollama\n",
    "ollama.ps()   ## llama3.2 is up and running"
   ]
  },
  {
   "cell_type": "code",
   "execution_count": 4,
   "id": "5ddf56f3-a755-4035-b2b0-e222941a05af",
   "metadata": {},
   "outputs": [],
   "source": [
    "##Summarize the results using llama3.2\n",
    "from ollama import generate\n",
    "\n",
    "def summarize_search_results(step):\n",
    "\n",
    "    topic_of_interest = step['query']\n",
    "    concated_fetched_results = step['arxiv_results'] + step['wiki_results']\n",
    "\n",
    "    logging.info(f'Invoking the LLm of Choice')\n",
    "\n",
    "    prompt = f'Summarize the given content and give me 5 key takeaways each from {concated_fetched_results}. Assume that the \\\n",
    "    target audience is novice in this domain. DO NOT ignore any content'\n",
    "    \n",
    "    response = generate(model='llama3.2:latest', prompt=prompt, options={'seed':88, 'temperature':0.1}, stream=False)\n",
    "\n",
    "    return response.response\n",
    "    \n"
   ]
  },
  {
   "cell_type": "code",
   "execution_count": 5,
   "id": "8671edef-63e3-4d39-b92d-0a82c3c21ad1",
   "metadata": {},
   "outputs": [],
   "source": [
    "history = list()\n",
    "\n",
    "def scrape_and_summarize():\n",
    "\n",
    "    ind_step = {}\n",
    "    ind_step['query'] = input()\n",
    "    ind_step['arxiv_results'] = arxiv_search(ind_step['query'])\n",
    "    ind_step['wiki_results'] = wikipedia_search(ind_step['query'])\n",
    "    \n",
    "    ind_step['response'] = summarize_search_results(ind_step)\n",
    "\n",
    "    history.append(ind_step)\n",
    "    \n",
    "    \n"
   ]
  },
  {
   "cell_type": "code",
   "execution_count": 6,
   "id": "abe1ca04-745f-4572-823d-06856d8556fa",
   "metadata": {},
   "outputs": [
    {
     "name": "stdin",
     "output_type": "stream",
     "text": [
      " Rashomon Effect\n"
     ]
    }
   ],
   "source": [
    "scrape_and_summarize()"
   ]
  },
  {
   "cell_type": "code",
   "execution_count": 7,
   "id": "54e674b0-77dd-4fbd-90a1-42478e22dbe9",
   "metadata": {},
   "outputs": [
    {
     "data": {
      "text/plain": [
       "dict_keys(['query', 'arxiv_results', 'wiki_results', 'response'])"
      ]
     },
     "execution_count": 7,
     "metadata": {},
     "output_type": "execute_result"
    }
   ],
   "source": [
    "history[-1].keys()"
   ]
  },
  {
   "cell_type": "code",
   "execution_count": 8,
   "id": "4eb0b90f-0fa6-474c-9584-f198fc27c037",
   "metadata": {},
   "outputs": [
    {
     "name": "stdout",
     "output_type": "stream",
     "text": [
      "The given content discusses two distinct concepts: \"Rashomon set\" in the context of machine learning and \"The Rashomon effect\" as a phenomenon in various fields.\n",
      "\n",
      "**Summary**\n",
      "\n",
      "In machine learning, the Rashomon set refers to the diverse range of models that can achieve near-optimal performance on a task. The concept aims to explore this set of models to improve interpretability and decision-making. In contrast, \"The Rashomon effect\" is a term used to describe the unreliability of eyewitnesses or subjective interpretations of events, which can lead to contradictory accounts.\n",
      "\n",
      "**5 Key Takeaways from Today**\n",
      "\n",
      "1. **Interpretable predictions are crucial**: As predictive models become increasingly complex, simple rule sets remain essential for obtaining interpretable results and driving high-stakes decision-making.\n",
      "2. **Rashomon-set exploration is a growing area of research**: Researchers aim to explore the Rashomon set of models to improve interpretability and decision-making in machine learning.\n",
      "3. **Exhaustive search can be computationally challenging**: Exhaustive enumeration of the Rashomon set can lead to redundancy, making it less efficient than exploring a representative sample or estimate of its size.\n",
      "4. **The Rashomon effect is a phenomenon in various fields**: The term describes the unreliability of eyewitnesses and subjective interpretations of events, which can lead to contradictory accounts.\n",
      "5. **The Rashomon effect has been used in storytelling and literature**: The concept has been applied in cinema, literature, and other creative works to explore different perspectives and points of view on a single event.\n",
      "\n",
      "**Key Takeaways from \"Rashomon\" (the film)**\n",
      "\n",
      "1. **The Rashomon effect is named after the 1950 Japanese film**: The term was coined by Akira Kurosawa's film \"Rashomon,\" which tells the story of a murder described in four contradictory ways by four witnesses.\n",
      "2. **The Rashomon effect has been used as a storytelling device**: The concept has been applied in various works to explore different perspectives and points of view on a single event.\n",
      "3. **The Rashomon effect is not limited to eyewitness accounts**: It can also describe subjective interpretations of events, highlighting the importance of considering multiple viewpoints.\n",
      "\n",
      "**Key Takeaways from \"Rashomon\" (the academic context)**\n",
      "\n",
      "1. **The Rashomon effect has been defined as an epistemological framework**: The term describes a way of thinking, knowing, and remembering that is required for understanding complex and ambiguous situations.\n",
      "2. **The Rashomon effect has been studied in various fields**: Researchers have explored the concept in psychology, sociology, history, and other disciplines to understand its implications on human perception, memory, and reporting.\n",
      "3. **The Rashomon effect highlights the importance of subjectivity**: The term emphasizes the role of individual perspectives and biases in shaping our understanding of events and experiences.\n"
     ]
    }
   ],
   "source": [
    "print(history[-1]['response'])"
   ]
  },
  {
   "cell_type": "code",
   "execution_count": null,
   "id": "6e49961b-64f4-4cbb-b3a5-74d09c37d447",
   "metadata": {},
   "outputs": [],
   "source": []
  },
  {
   "cell_type": "code",
   "execution_count": null,
   "id": "dc0c9129-4fd8-4229-8b15-4c2a2968f308",
   "metadata": {},
   "outputs": [],
   "source": []
  }
 ],
 "metadata": {
  "kernelspec": {
   "display_name": "gpt",
   "language": "python",
   "name": "gpt"
  },
  "language_info": {
   "codemirror_mode": {
    "name": "ipython",
    "version": 3
   },
   "file_extension": ".py",
   "mimetype": "text/x-python",
   "name": "python",
   "nbconvert_exporter": "python",
   "pygments_lexer": "ipython3",
   "version": "3.13.1"
  }
 },
 "nbformat": 4,
 "nbformat_minor": 5
}
