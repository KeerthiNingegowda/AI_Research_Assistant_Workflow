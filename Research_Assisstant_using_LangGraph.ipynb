{
 "cells": [
  {
   "cell_type": "code",
   "execution_count": 1,
   "id": "aa04ba05-521b-4c8a-980a-912dd2b26973",
   "metadata": {},
   "outputs": [
    {
     "name": "stdout",
     "output_type": "stream",
     "text": [
      "Is my GROQ_API_KEY None -- False\n"
     ]
    }
   ],
   "source": [
    "from dotenv import load_dotenv\n",
    "import os\n",
    "import logging\n",
    "\n",
    "logging.basicConfig(level=logging.INFO)\n",
    "load_dotenv()\n",
    "GROQ_API_KEY = os.getenv('GROQ_API_KEY')\n",
    "\n",
    "\n",
    "print(f'Is my GROQ_API_KEY None -- {GROQ_API_KEY is None}')"
   ]
  },
  {
   "cell_type": "code",
   "execution_count": 2,
   "id": "d0eea92c-6aed-48a5-88e4-5aa4f0b68cbd",
   "metadata": {},
   "outputs": [],
   "source": [
    "##Pull the model of your choice using groq\n",
    "\n",
    "from langchain_groq import ChatGroq\n",
    "llm = ChatGroq(\n",
    "    model_name='llama-3.1-8b-instant',\n",
    "    groq_api_base=None, ##No proxy defined\n",
    "    groq_api_key=GROQ_API_KEY, \n",
    "    streaming=False,\n",
    "    verbose=True ##For logging purposes\n",
    ")\n"
   ]
  },
  {
   "cell_type": "code",
   "execution_count": 3,
   "id": "909b49c4-61b4-4acf-b140-93fe660a4133",
   "metadata": {},
   "outputs": [],
   "source": [
    "##Build the logic for doing Wkikipedia search\n",
    "from langchain_community.retrievers import WikipediaRetriever\n",
    "##Tweak top_k_results as needed\n",
    "\n",
    "##Top 1st document\n",
    "wikipedia_retreiver = WikipediaRetriever(doc_content_chars_max = 1000000, top_k_results = 1, load_all_available_meta=False)\n",
    "\n",
    "\n",
    "##Build the logic for Arxiv search\n",
    "from langchain_community.utilities.arxiv import ArxivAPIWrapper\n",
    "from langchain_community.tools.arxiv import ArxivQueryRun\n",
    "\n",
    "arxiv_obj = ArxivAPIWrapper(doc_content_chars_max=10000, top_k_results=1)\n",
    "arxiv_search = ArxivQueryRun(api_wrapper=arxiv_obj)\n"
   ]
  },
  {
   "cell_type": "code",
   "execution_count": 4,
   "id": "80635431",
   "metadata": {},
   "outputs": [],
   "source": [
    "##Define the step state - Think of it like a return type for the search in total\n",
    "from typing import TypedDict, Union\n",
    "\n",
    "##WikipedaStep\n",
    "class SearchStep(TypedDict):\n",
    "    topic : str\n",
    "    search_results_arxiv : Union[str, None]\n",
    "    search_results_wikipedia : Union[str, None]\n",
    "    summary: str\n",
    "    metasummary:str\n",
    "        "
   ]
  },
  {
   "cell_type": "code",
   "execution_count": 5,
   "id": "d4ed5945",
   "metadata": {},
   "outputs": [],
   "source": [
    "def search_wikipedia(step:SearchStep):\n",
    "    topic_of_interest = step['topic'][-1].content\n",
    "    \n",
    "    try:\n",
    "        logging.info('Searching Wikipedia....')\n",
    "        response = wikipedia_retreiver.invoke(topic_of_interest)[0].page_content\n",
    "        return {**step,\n",
    "              \"topic\":step['topic'],  ##Hold the history\n",
    "              \"search_results_wikipedia\": response,\n",
    "               \"search_results_arxiv\": step['search_results_arxiv'],\n",
    "               \"summary\":\"\"}\n",
    "    except:\n",
    "        logging.warning('Wikipedia search failed. Retuning empty artifacts')\n",
    "        return {**step, \n",
    "              \"topic\":step['topic'],\n",
    "              \"search_results_wikipedia\":None,\n",
    "               \"search_results_arxiv\": step['search_results_arxiv'],\n",
    "               \"summary\":\"\"}\n",
    "        \n",
    "        \n",
    "    "
   ]
  },
  {
   "cell_type": "code",
   "execution_count": 6,
   "id": "2795083f",
   "metadata": {},
   "outputs": [],
   "source": [
    "def search_arxiv(step:SearchStep):\n",
    "    topic_of_interest = step['topic'][-1].content\n",
    "    \n",
    "    try:\n",
    "        logging.info('Searching Arxvi')\n",
    "        response = arxiv_search.invoke(topic_of_interest)   ##Returns the summary of the page\n",
    "        return {**step,\n",
    "               \"topic\":step['topic'],\n",
    "               \"search_results_arxiv\":response,\n",
    "               \"search_results_wikipedia\": step['search_results_wikipedia'],\n",
    "               \"summary\":\"\"}\n",
    "    except:\n",
    "        logging.warning('Arxiv search failed')\n",
    "        return {**step,\n",
    "               \"topic\": step['topic'],\n",
    "               \"search_results_arxiv\": None,\n",
    "               \"search_results_wikipedia\" : step['search_results_wikipedia'],\n",
    "               \"summary\":\"\"}"
   ]
  },
  {
   "cell_type": "code",
   "execution_count": 7,
   "id": "b728cea3",
   "metadata": {},
   "outputs": [],
   "source": [
    "def summarize_search_results(step:SearchStep):\n",
    "    \n",
    "    wiki_results = step.get('search_results_wikipedia')\n",
    "    arxiv_results = step.get('search_results_arxiv')\n",
    "\n",
    "    ##Add a summarization step before since you cannot tweak context window\n",
    "    wiki_summary = llm.invoke(f'Give me 5 key takeways from {wiki_results}', temperature=0.1)\n",
    "    arxiv_summary = llm.invoke(f'Give me 5 key takeawaya from {arxiv_results}', temperature=0.1)\n",
    "\n",
    "    concated_results = wiki_summary + arxiv_summary\n",
    "    \n",
    "    logging.info('Invoking the chosen llm')\n",
    "    \n",
    "    #Tweak the context window as required - Just doing twice summarization due to lack of way to tweak context window\n",
    "    llm_summary = llm.invoke(f'Summarize the given content and give me 5 key takeaways each from {concated_results}. Assume that the \\\n",
    "    target audience is novice in this domain. DO NOT ignore any content', temperature=0.1 )\n",
    "    final_summary = llm_summary.content\n",
    "    \n",
    "    return {**step, \"summary\":final_summary, \"metasummary\":concated_results}\n",
    "    \n",
    "\n",
    "    \n",
    "    "
   ]
  },
  {
   "cell_type": "code",
   "execution_count": 8,
   "id": "75ba3db0",
   "metadata": {},
   "outputs": [
    {
     "data": {
      "image/png": "[encoded data removed]",
      "text/plain": [
       "<IPython.core.display.Image object>"
      ]
     },
     "execution_count": 8,
     "metadata": {},
     "output_type": "execute_result"
    }
   ],
   "source": [
    "##Print the worklfow\n",
    "from IPython.display import display, Image\n",
    "from langgraph.graph import StateGraph\n",
    "\n",
    "workflow = StateGraph(SearchStep)\n",
    "\n",
    "workflow.add_node(\"arxiv_search\", search_arxiv)\n",
    "workflow.add_node(\"wikipedia_search\", search_wikipedia)\n",
    "workflow.add_node(\"summarize_searches\", summarize_search_results)\n",
    "\n",
    "workflow.add_edge(\"__start__\", \"arxiv_search\")\n",
    "\n",
    "workflow.add_edge(\"arxiv_search\", \"wikipedia_search\")\n",
    "workflow.add_edge(\"wikipedia_search\", \"summarize_searches\")\n",
    "workflow.add_edge(\"summarize_searches\",\"__end__\")\n",
    "\n",
    "graph = workflow.compile()\n",
    "\n",
    "Image(graph.get_graph().draw_mermaid_png())\n"
   ]
  },
  {
   "cell_type": "code",
   "execution_count": 9,
   "id": "32f66874",
   "metadata": {},
   "outputs": [
    {
     "name": "stdin",
     "output_type": "stream",
     "text": [
      " Rashomon Effect\n"
     ]
    },
    {
     "name": "stderr",
     "output_type": "stream",
     "text": [
      "INFO:root:Searching Arxvi\n",
      "INFO:arxiv:Requesting page (first: True, try: 0): https://export.arxiv.org/api/query?search_query=Rashomon+Effect&id_list=&sortBy=relevance&sortOrder=descending&start=0&max_results=100\n",
      "INFO:arxiv:Got first page: 100 of 566838 total results\n",
      "INFO:root:Searching Wikipedia....\n",
      "INFO:httpx:HTTP Request: POST https://api.groq.com/openai/v1/chat/completions \"HTTP/1.1 200 OK\"\n",
      "INFO:httpx:HTTP Request: POST https://api.groq.com/openai/v1/chat/completions \"HTTP/1.1 200 OK\"\n",
      "INFO:root:Invoking the chosen llm\n",
      "INFO:httpx:HTTP Request: POST https://api.groq.com/openai/v1/chat/completions \"HTTP/1.1 200 OK\"\n"
     ]
    }
   ],
   "source": [
    "from langchain_core.messages import HumanMessage\n",
    "\n",
    "\n",
    "query = HumanMessage(input())\n",
    "initial_state = {\n",
    "    \n",
    "    \"topic\": [query],\n",
    "    \"search_results_arxiv\": None,\n",
    "    \"search_results_wikipedia\": None,\n",
    "    \"summary\":''\n",
    "    \n",
    "}\n",
    "response = graph.invoke(initial_state)\n",
    "\n"
   ]
  },
  {
   "cell_type": "code",
   "execution_count": 10,
   "id": "b9a4b9ae-0e67-43e5-997d-0d03a7f8d0b2",
   "metadata": {},
   "outputs": [
    {
     "name": "stdout",
     "output_type": "stream",
     "text": [
      "**Summary:**\n",
      "\n",
      "The provided content discusses the Rashomon effect, a concept that highlights the unreliability of eyewitnesses and the subjective nature of human perception, memory, and reporting. It emphasizes the importance of considering multiple perspectives and interpretations of an event, rather than relying on a single, objective truth. The Rashomon effect is particularly relevant in situations where events are complex and ambiguous. Two separate sources discuss the Rashomon effect in the context of eyewitness accounts and machine learning models.\n",
      "\n",
      "**5 Key Takeaways from the First Source:**\n",
      "\n",
      "1. **Unreliability of eyewitnesses**: The Rashomon effect highlights the unreliability of eyewitnesses and the subjective nature of human perception, memory, and reporting.\n",
      "2. **Subjectivity vs. objectivity**: The Rashomon effect emphasizes the subjective nature of human perception and the difficulty of achieving objectivity in reporting and understanding complex events.\n",
      "3. **Multiple perspectives**: The Rashomon effect encourages considering multiple perspectives and interpretations of an event, rather than relying on a single, objective truth.\n",
      "4. **Complexity and ambiguity**: The Rashomon effect is particularly relevant in situations where events are complex and ambiguous, and there is no clear objective truth.\n",
      "5. **Importance of critical thinking**: The Rashomon effect highlights the importance of critical thinking and skepticism when evaluating eyewitness accounts and reports of events.\n",
      "\n",
      "**5 Key Takeaways from the Second Source:**\n",
      "\n",
      "1. **Interpretable Predictions are Crucial**: Simple rule sets remain a vital tool for obtaining interpretable predictions and driving high-stakes decision-making in complex predictive models.\n",
      "2. **Rashomon Set Exploration**: The paper focuses on exploring the Rashomon set of all models exhibiting near-optimal performance, which is an emerging paradigm in interpretable machine learning.\n",
      "3. **Efficient Methods for Rashomon Set Exploration**: The authors propose efficient methods to explore the Rashomon set of rule set models, which can be used with or without exhaustive search, making it a more computationally feasible task.\n",
      "4. **Reducing Redundancy**: The proposed methods aim to reduce redundancy in exhaustive enumeration, which is often unnecessary, and provide a representative sample or estimate of the size of the Rashomon set.\n",
      "5. **Effective in Various Scenarios**: Extensive experiments demonstrate the effectiveness of the proposed methods in a variety of scenarios, showcasing their potential for practical applications in interpretable machine learning.\n",
      "\n",
      "**Additional Insights:**\n",
      "\n",
      "* The Rashomon effect has implications for various fields, including law, psychology, and machine learning.\n",
      "* The concept highlights the importance of considering multiple perspectives and interpretations of an event, rather than relying on a single, objective truth.\n",
      "* The proposed methods for Rashomon set exploration in the second source can be used to improve the interpretability of machine learning models.\n"
     ]
    }
   ],
   "source": [
    "print(response['summary'])"
   ]
  },
  {
   "cell_type": "code",
   "execution_count": 11,
   "id": "5b95989b",
   "metadata": {},
   "outputs": [
    {
     "data": {
      "text/plain": [
       "dict_keys(['topic', 'search_results_arxiv', 'search_results_wikipedia', 'summary', 'metasummary'])"
      ]
     },
     "execution_count": 11,
     "metadata": {},
     "output_type": "execute_result"
    }
   ],
   "source": [
    "response.keys()"
   ]
  },
  {
   "cell_type": "code",
   "execution_count": null,
   "id": "621eef70-1b87-4f83-8764-8f29318d2ebe",
   "metadata": {},
   "outputs": [],
   "source": []
  }
 ],
 "metadata": {
  "kernelspec": {
   "display_name": "gpt",
   "language": "python",
   "name": "gpt"
  },
  "language_info": {
   "codemirror_mode": {
    "name": "ipython",
    "version": 3
   },
   "file_extension": ".py",
   "mimetype": "text/x-python",
   "name": "python",
   "nbconvert_exporter": "python",
   "pygments_lexer": "ipython3",
   "version": "3.13.1"
  }
 },
 "nbformat": 4,
 "nbformat_minor": 5
}
